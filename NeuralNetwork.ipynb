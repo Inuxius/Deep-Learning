{
 "cells": [
  {
   "cell_type": "code",
   "execution_count": 28,
   "metadata": {},
   "outputs": [],
   "source": [
    "import pandas as pd\n",
    "import numpy as np"
   ]
  },
  {
   "cell_type": "code",
   "execution_count": 29,
   "metadata": {},
   "outputs": [],
   "source": [
    "def sigmoid(a):\n",
    "    return (1/(1+np.exp(-a)))"
   ]
  },
  {
   "cell_type": "code",
   "execution_count": 30,
   "metadata": {},
   "outputs": [],
   "source": [
    "def relu_der(a):\n",
    "    return 1*(a>0)"
   ]
  },
  {
   "cell_type": "code",
   "execution_count": 31,
   "metadata": {},
   "outputs": [],
   "source": [
    "def relu(a):\n",
    "    return  a * (a > 0)"
   ]
  },
  {
   "cell_type": "code",
   "execution_count": 32,
   "metadata": {},
   "outputs": [],
   "source": [
    "def forwardprop(X,W,b,activation='relu'):\n",
    "    \n",
    "    Z=np.dot(W,X)+b\n",
    "    if(activation=='relu'):\n",
    "        Z=relu(Z)\n",
    "    else:\n",
    "        Z=sigmoid(Z)\n",
    "    A=Z\n",
    "    \n",
    "    goprop={'X':X,'A':A,'W':W,'Z':Z,'b':b}\n",
    "    return goprop"
   ]
  },
  {
   "cell_type": "code",
   "execution_count": 33,
   "metadata": {},
   "outputs": [],
   "source": [
    "def backwardprop(Y,fp,fp_old,bp,layer='mid'):\n",
    "    m=Y.shape[1]\n",
    "    \n",
    "    if(layer=='Last'):\n",
    "        dZ=fp['A']-Y\n",
    "    else:\n",
    "        dZ=np.dot(fp_old['W'].T,bp['dZ'])*relu_der(fp['Z'])\n",
    "\n",
    "    dW=(1/m)*(np.dot(dZ,fp['X'].T))\n",
    "    db=(1/m)*(np.sum(dZ,axis=1,keepdims=True))\n",
    "    bp={'dZ':dZ,'dW':dW,'db':db}\n",
    "    \n",
    "    return bp"
   ]
  },
  {
   "cell_type": "code",
   "execution_count": 50,
   "metadata": {},
   "outputs": [],
   "source": [
    "class NeuralNetwork:\n",
    "    def __init__(self,n,layer_dims,alpha=0.1,maxiters=10):\n",
    "        self.n=n\n",
    "        self.layer_dims=layer_dims\n",
    "        self.alpha=alpha\n",
    "        self.maxiters=maxiters\n",
    "        self.best_params={}\n",
    "    def fit(self,X,Y):\n",
    "        fps={}\n",
    "        for i in range(self.n):\n",
    "            fps['fp'+str(i)]={'X':X,'A':0,'W':0,'Z':0,'b':0}\n",
    "        \n",
    "        for i in range(self.n):\n",
    "            fps['fp'+str(i)]['W']=np.random.randn(layer_dims[i+1],layer_dims[i])*0.01\n",
    "            fps['fp'+str(i)]['b']=np.random.randn(layer_dims[i+1],1)\n",
    "        bp={}\n",
    "        fp_old={}\n",
    "        for j in range(self.maxiters):\n",
    "            A_prev=X\n",
    "            \n",
    "            for i in range(self.n):\n",
    "                activation='relu'\n",
    "                if(i==self.n-1):\n",
    "                    activation='sigmoid'\n",
    "                fps['fp'+str(i)]['X']=A_prev\n",
    "                fp=forwardprop(fps['fp'+str(i)]['X'],fps['fp'+str(i)]['W'],fps['fp'+str(i)]['b'],activation)\n",
    "                fps['fp'+str(i)]=fp\n",
    "                A_prev=fp['A']\n",
    "            for i in range(self.n-1,-1,-1):\n",
    "                layer='mid'\n",
    "                if(i==self.n-1):\n",
    "                    layer='Last'\n",
    "                bp_new=backwardprop(Y,fps['fp'+str(i)],fp_old,bp,layer)\n",
    "                fps['fp'+str(i)]['W']-=self.alpha*bp_new['dW']\n",
    "                fps['fp'+str(i)]['b']-=self.alpha*bp_new['db']\n",
    "                fp_old=fps['fp'+str(i)]\n",
    "                bp=bp_new\n",
    "        self.best_params=fps\n",
    "    def predict(self,X):\n",
    "        X=X.T\n",
    "        fps=self.best_params\n",
    "        \n",
    "        for i in range(self.n):\n",
    "                activation='relu'\n",
    "                if(i==self.n-1):\n",
    "                    activation='sigmoid'\n",
    "                fp=forwardprop(fps['fp'+str(i)]['X'],fps['fp'+str(i)]['W'],fps['fp'+str(i)]['b'],activation)\n",
    "                fps['fp'+str(i)]=fp\n",
    "        return 1*(fps['fp'+str(i)]['A']>0.5)\n",
    "            "
   ]
  },
  {
   "cell_type": "code",
   "execution_count": 51,
   "metadata": {},
   "outputs": [],
   "source": [
    "layer_dims=[10,5,5,4,3,1]"
   ]
  },
  {
   "cell_type": "code",
   "execution_count": 52,
   "metadata": {},
   "outputs": [],
   "source": [
    "X=np.random.randn(10,10)"
   ]
  },
  {
   "cell_type": "code",
   "execution_count": 53,
   "metadata": {},
   "outputs": [],
   "source": [
    "Y=np.array([1,0,1,0,1,0,1,0,1,0]).reshape(1,-1)"
   ]
  },
  {
   "cell_type": "code",
   "execution_count": 54,
   "metadata": {
    "collapsed": true
   },
   "outputs": [
    {
     "data": {
      "text/plain": [
       "(1, 10)"
      ]
     },
     "execution_count": 54,
     "metadata": {},
     "output_type": "execute_result"
    }
   ],
   "source": [
    "Y.shape"
   ]
  },
  {
   "cell_type": "code",
   "execution_count": 55,
   "metadata": {},
   "outputs": [],
   "source": [
    "nn=NeuralNetwork(5,layer_dims)"
   ]
  },
  {
   "cell_type": "code",
   "execution_count": 56,
   "metadata": {
    "scrolled": true
   },
   "outputs": [],
   "source": [
    "nn.fit(X,Y)"
   ]
  },
  {
   "cell_type": "code",
   "execution_count": 57,
   "metadata": {
    "collapsed": true
   },
   "outputs": [
    {
     "data": {
      "text/plain": [
       "array([[0, 0, 0, 0, 0, 0, 0, 0, 0, 0]])"
      ]
     },
     "execution_count": 57,
     "metadata": {},
     "output_type": "execute_result"
    }
   ],
   "source": [
    "nn.predict(X)"
   ]
  },
  {
   "cell_type": "code",
   "execution_count": null,
   "metadata": {},
   "outputs": [],
   "source": []
  },
  {
   "cell_type": "code",
   "execution_count": null,
   "metadata": {},
   "outputs": [],
   "source": []
  },
  {
   "cell_type": "code",
   "execution_count": null,
   "metadata": {},
   "outputs": [],
   "source": []
  },
  {
   "cell_type": "code",
   "execution_count": null,
   "metadata": {},
   "outputs": [],
   "source": []
  },
  {
   "cell_type": "code",
   "execution_count": null,
   "metadata": {},
   "outputs": [],
   "source": []
  },
  {
   "cell_type": "code",
   "execution_count": null,
   "metadata": {},
   "outputs": [],
   "source": []
  },
  {
   "cell_type": "code",
   "execution_count": null,
   "metadata": {},
   "outputs": [],
   "source": []
  }
 ],
 "metadata": {
  "kernelspec": {
   "display_name": "Python 3",
   "language": "python",
   "name": "python3"
  },
  "language_info": {
   "codemirror_mode": {
    "name": "ipython",
    "version": 3
   },
   "file_extension": ".py",
   "mimetype": "text/x-python",
   "name": "python",
   "nbconvert_exporter": "python",
   "pygments_lexer": "ipython3",
   "version": "3.7.1"
  }
 },
 "nbformat": 4,
 "nbformat_minor": 2
}
